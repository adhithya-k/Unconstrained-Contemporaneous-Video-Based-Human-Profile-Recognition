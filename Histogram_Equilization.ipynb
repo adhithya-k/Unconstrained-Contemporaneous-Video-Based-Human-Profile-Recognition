{
 "cells": [
  {
   "cell_type": "code",
   "execution_count": 3,
   "id": "78245044",
   "metadata": {},
   "outputs": [],
   "source": [
    "import cv2 as cv\n",
    "import numpy as np\n",
    "from matplotlib import pyplot as plt\n",
    "\n",
    "def hist_equilization(img):\n",
    "\n",
    "    hist,bins = np.histogram(img.flatten(),256,[0,256])\n",
    "    cdf = hist.cumsum()\n",
    "    cdf_normalized = cdf * float(hist.max()) / cdf.max()\n",
    "    plt.plot(cdf_normalized, color = 'b')\n",
    "    plt.hist(img.flatten(),256,[0,256], color = 'r')\n",
    "    plt.xlim([0,256])\n",
    "    plt.legend(('cdf','histogram'), loc = 'upper left')\n",
    "    plt.show()\n",
    "\n",
    "    R, G, B = cv.split(img)\n",
    "\n",
    "    output1_R = cv.equalizeHist(R)\n",
    "    output1_G = cv.equalizeHist(G)\n",
    "    output1_B = cv.equalizeHist(B)\n",
    "\n",
    "    equ = cv.merge((output1_R, output1_G, output1_B))\n",
    "\n",
    "    hist,bins = np.histogram(equ.flatten(),256,[0,256])\n",
    "    cdf = hist.cumsum()\n",
    "    cdf_normalized = cdf * float(hist.max()) / cdf.max()\n",
    "    plt.plot(cdf_normalized, color = 'b')\n",
    "    plt.hist(equ.flatten(),256,[0,256], color = 'r')\n",
    "    plt.xlim([0,256])\n",
    "    plt.legend(('cdf','histogram'), loc = 'upper left')\n",
    "    plt.show()\n",
    "    \n",
    "    return equ"
   ]
  },
  {
   "cell_type": "code",
   "execution_count": null,
   "id": "3846d467",
   "metadata": {},
   "outputs": [],
   "source": []
  }
 ],
 "metadata": {
  "kernelspec": {
   "display_name": "Python 3",
   "language": "python",
   "name": "python3"
  },
  "language_info": {
   "codemirror_mode": {
    "name": "ipython",
    "version": 3
   },
   "file_extension": ".py",
   "mimetype": "text/x-python",
   "name": "python",
   "nbconvert_exporter": "python",
   "pygments_lexer": "ipython3",
   "version": "3.6.13"
  }
 },
 "nbformat": 4,
 "nbformat_minor": 5
}
