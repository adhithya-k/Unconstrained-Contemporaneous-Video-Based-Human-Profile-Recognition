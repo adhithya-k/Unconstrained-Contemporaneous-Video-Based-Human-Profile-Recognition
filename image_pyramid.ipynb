{
 "cells": [
  {
   "cell_type": "code",
   "execution_count": 3,
   "id": "3754c611",
   "metadata": {},
   "outputs": [],
   "source": [
    "import cv2\n",
    "import numpy as np\n",
    "\n",
    "def imgPyramid(img):\n",
    "    layer = img.copy()\n",
    "    gaussian_pyramid_list = [layer]\n",
    "\n",
    "    for i in range(4):\n",
    "        layer = cv2.pyrUp(layer)\n",
    "        gaussian_pyramid_list.append(layer)\n",
    "    \n",
    "    return gaussian_pyramid_list\n"
   ]
  }
 ],
 "metadata": {
  "kernelspec": {
   "display_name": "Python 3",
   "language": "python",
   "name": "python3"
  },
  "language_info": {
   "codemirror_mode": {
    "name": "ipython",
    "version": 3
   },
   "file_extension": ".py",
   "mimetype": "text/x-python",
   "name": "python",
   "nbconvert_exporter": "python",
   "pygments_lexer": "ipython3",
   "version": "3.6.13"
  }
 },
 "nbformat": 4,
 "nbformat_minor": 5
}
